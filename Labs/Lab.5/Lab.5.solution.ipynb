{
 "cells": [
  {
   "cell_type": "markdown",
   "metadata": {},
   "source": [
    "# Lab 5\n"
   ]
  },
  {
   "cell_type": "markdown",
   "metadata": {},
   "source": [
    "Matrix Representation: In this lab you will be creating a simple linear algebra system. In memory, we will represent matrices as nested python lists as we have done in lecture. In the exercises below, you are required to explicitly test every feature you implement, demonstrating it works.\n",
    "\n",
    "1. Create a `matrix` class with the following properties:\n",
    "    * It can be initialized in 2 ways:\n",
    "        1. with arguments `n` and `m`, the size of the matrix. A newly instanciated matrix will contain all zeros.\n",
    "        2. with a list of lists of values. Note that since we are using lists of lists to implement matrices, it is possible that not all rows have the same number of columns. Test explicitly that the matrix is properly specified.\n",
    "    * Matrix instances `M` can be indexed with `M[i][j]` and `M[i,j]`.\n",
    "    * Matrix assignment works in 2 ways:\n",
    "        1. If `M_1` and `M_2` are `matrix` instances `M_1=M_2` sets the values of `M_1` to those of `M_2`, if they are the same size. Error otherwise.\n",
    "        2. In example above `M_2` can be a list of lists of correct size.\n"
   ]
  },
  {
   "cell_type": "code",
   "execution_count": 19,
   "metadata": {},
   "outputs": [],
   "source": [
    "class Matrix:\n",
    "    def __init__(self, n, m=None):\n",
    "        if isinstance(n, list):\n",
    "            self.data=n\n",
    "            self.rows=len(n)\n",
    "            self.cols=len(n[0]) if n else 0\n",
    "            if not all(len(row)==self.cols for row in n):\n",
    "                raise ValueError(\"Error.\")\n",
    "        elif isinstance(n, int) and isinstance(m, int):\n",
    "            self.rows, self.cols=n, m\n",
    "            self.data=[[0] * m for _ in range(n)]\n",
    "        else:\n",
    "            raise TypeError(\"Error.\")\n",
    "\n",
    "    def __getitem__(self, index):\n",
    "        if isinstance(index, tuple):\n",
    "            i, j=index\n",
    "            return self.data[i][j]\n",
    "        return self.data[index]\n",
    "\n",
    "    def __setitem__(self, index, value):\n",
    "        if isinstance(index, tuple):\n",
    "            i, j=index\n",
    "            self.data[i][j]=value\n",
    "        else:\n",
    "            self.data[index]=value"
   ]
  },
  {
   "cell_type": "code",
   "execution_count": 23,
   "metadata": {},
   "outputs": [
    {
     "name": "stdout",
     "output_type": "stream",
     "text": [
      "M1: [[0, 0, 0], [0, 0, 0], [0, 0, 0]]\n",
      "M2: [[1, 2, 3], [4, 5, 6], [7, 8, 9]]\n",
      "Access M2: 6\n",
      "After modifying M2: [[1, 2, 3], [4, 5, 10], [7, 8, 9]]\n"
     ]
    }
   ],
   "source": [
    "# Testing \n",
    "M1=Matrix(3, 3)\n",
    "print(\"M1:\", M1.data)\n",
    "\n",
    "M2=Matrix([[1, 2, 3], [4, 5, 6], [7, 8, 9]])\n",
    "print(\"M2:\", M2.data)\n",
    "\n",
    "print(\"Access M2:\", M2[1, 2]) \n",
    "M2[1, 2]=10\n",
    "print(\"After modifying M2:\", M2.data)"
   ]
  },
  {
   "cell_type": "markdown",
   "metadata": {},
   "source": [
    "2. Add the following methods:\n",
    "    * `shape()`: returns a tuple `(n,m)` of the shape of the matrix.\n",
    "    * `transpose()`: returns a new matrix instance which is the transpose of the matrix.\n",
    "    * `row(n)` and `column(n)`: that return the nth row or column of the matrix M as a new appropriately shaped matrix object.\n",
    "    * `to_list()`: which returns the matrix as a list of lists.\n",
    "    *  `block(n_0,n_1,m_0,m_1)` that returns a smaller matrix located at the n_0 to n_1 columns and m_0 to m_1 rows. \n",
    "    * (Extra credit) Modify `__getitem__` implemented above to support slicing.\n",
    "        "
   ]
  },
  {
   "cell_type": "code",
   "execution_count": 25,
   "metadata": {},
   "outputs": [],
   "source": [
    "class Matrix:\n",
    "    def __init__(self, n, m=None):\n",
    "        if isinstance(n, list): \n",
    "            self.data=n\n",
    "            self.rows=len(n)\n",
    "            self.cols=len(n[0]) if n else 0\n",
    "            if not all(len(row)==self.cols for row in n):\n",
    "                raise ValueError(\"Error.\")\n",
    "        elif isinstance(n, int) and isinstance(m, int): \n",
    "            self.rows, self.cols=n, m\n",
    "            self.data=[[0] * m for _ in range(n)]\n",
    "        else:\n",
    "            raise TypeError(\"Error.\")\n",
    "\n",
    "    def shape(self):\n",
    "        return (self.rows, self.cols)\n",
    "\n",
    "    def transpose(self):\n",
    "        transposed_data=[[self.data[j][i] for j in range(self.rows)] for i in range(self.cols)]\n",
    "        return Matrix(transposed_data)\n",
    "\n",
    "    def row(self, n):\n",
    "        if not (0 <= n < self.rows):\n",
    "            raise IndexError(\"Error. Out of range\")\n",
    "        return Matrix([self.data[n]])\n",
    "\n",
    "    def column(self, n):\n",
    "        if not (0 <= n < self.cols):\n",
    "            raise IndexError(\"Error. Out of range\")\n",
    "        return Matrix([[self.data[i][n]] for i in range(self.rows)])\n",
    "\n",
    "    def to_list(self):\n",
    "        return [row[:] for row in self.data]\n",
    "\n",
    "    def block(self, n_0, n_1, m_0, m_1):\n",
    "        if not (0 <= n_0 < n_1 <= self.rows and 0 <= m_0 < m_1 <= self.cols):\n",
    "            raise IndexError(\"Error.\")\n",
    "        return Matrix([row[m_0:m_1] for row in self.data[n_0:n_1]])\n",
    "\n",
    "    def __getitem__(self, index):\n",
    "        if isinstance(index, tuple):\n",
    "            i, j=index\n",
    "            if isinstance(i, slice) or isinstance(j, slice):\n",
    "                submatrix=[row[j] for row in self.data[i]]\n",
    "                return Matrix(submatrix)\n",
    "            return self.data[i][j]\n",
    "        return self.data[index]\n",
    "\n",
    "    def __setitem__(self, index, value):\n",
    "        if isinstance(index, tuple):\n",
    "            i, j=index\n",
    "            self.data[i][j]=value\n",
    "        else:\n",
    "            self.data[index]=value\n"
   ]
  },
  {
   "cell_type": "code",
   "execution_count": 26,
   "metadata": {},
   "outputs": [
    {
     "name": "stdout",
     "output_type": "stream",
     "text": [
      "Shape: (3, 3)\n",
      "Transpose: [[1, 4, 7], [2, 5, 8], [3, 6, 9]]\n",
      "Row 1: [[4, 5, 6]]\n",
      "Column 2: [[3], [6], [9]]\n",
      "Submatrix (0:2, 1:3): [[2, 3], [5, 6]]\n",
      "Slicing M[0:2, 1:3]: [[2, 3], [5, 6]]\n"
     ]
    }
   ],
   "source": [
    "# Testing\n",
    "M=Matrix([[1, 2, 3], [4, 5, 6], [7, 8, 9]])\n",
    "\n",
    "print(\"Shape:\", M.shape())  # (3, 3)\n",
    "print(\"Transpose:\", M.transpose().to_list()) \n",
    "print(\"Row 1:\", M.row(1).to_list()) \n",
    "print(\"Column 2:\", M.column(2).to_list()) \n",
    "print(\"Submatrix (0:2, 1:3):\", M.block(0, 2, 1, 3).to_list()) \n",
    "print(\"Slicing M[0:2, 1:3]:\", M[0:2, 1:3].to_list()) \n"
   ]
  },
  {
   "cell_type": "markdown",
   "metadata": {},
   "source": [
    "3. Write functions that create special matrices (note these are standalone functions, not member functions of your `matrix` class):\n",
    "    * `constant(n,m,c)`: returns a `n` by `m` matrix filled with floats of value `c`.\n",
    "    * `zeros(n,m)` and `ones(n,m)`: return `n` by `m` matrices filled with floats of value `0` and `1`, respectively.\n",
    "    * `eye(n)`: returns the n by n identity matrix."
   ]
  },
  {
   "cell_type": "code",
   "execution_count": 27,
   "metadata": {},
   "outputs": [],
   "source": [
    "def constant(n, m, c):\n",
    "    return Matrix([[float(c)] * m for _ in range(n)])\n",
    "\n",
    "def zeros(n, m):\n",
    "    return constant(n, m, 0.0)\n",
    "\n",
    "def ones(n, m):\n",
    "    return constant(n, m, 1.0)\n",
    "\n",
    "def eye(n):\n",
    "    return Matrix([[1.0 if i == j else 0.0 for j in range(n)] for i in range(n)])\n"
   ]
  },
  {
   "cell_type": "code",
   "execution_count": 28,
   "metadata": {},
   "outputs": [
    {
     "name": "stdout",
     "output_type": "stream",
     "text": [
      "Constant Matrix: [[5.0, 5.0, 5.0], [5.0, 5.0, 5.0]]\n",
      "Zero Matrix: [[0.0, 0.0, 0.0], [0.0, 0.0, 0.0], [0.0, 0.0, 0.0]]\n",
      "Ones Matrix: [[1.0, 1.0, 1.0, 1.0], [1.0, 1.0, 1.0, 1.0]]\n",
      "Identity Matrix: [[1.0, 0.0, 0.0, 0.0], [0.0, 1.0, 0.0, 0.0], [0.0, 0.0, 1.0, 0.0], [0.0, 0.0, 0.0, 1.0]]\n"
     ]
    }
   ],
   "source": [
    "# Testing\n",
    "print(\"Constant Matrix:\", constant(2, 3, 5).to_list())\n",
    "print(\"Zero Matrix:\", zeros(3, 3).to_list())\n",
    "print(\"Ones Matrix:\", ones(2, 4).to_list())\n",
    "print(\"Identity Matrix:\", eye(4).to_list())"
   ]
  },
  {
   "cell_type": "markdown",
   "metadata": {},
   "source": [
    "4. Add the following member functions to your class. Make sure to appropriately test the dimensions of the matrices to make sure the operations are correct.\n",
    "    * `M.scalarmul(c)`: a matrix that is scalar product $cM$, where every element of $M$ is multiplied by $c$.\n",
    "    * `M.add(N)`: adds two matrices $M$ and $N$. Don’t forget to test that the sizes of the matrices are compatible for this and all other operations.\n",
    "    * `M.sub(N)`: subtracts two matrices $M$ and $N$.\n",
    "    * `M.mat_mult(N)`: returns a matrix that is the matrix product of two matrices $M$ and $N$.\n",
    "    * `M.element_mult(N)`: returns a matrix that is the element-wise product of two matrices $M$ and $N$.\n",
    "    * `M.equals(N)`: returns true/false if $M==N$."
   ]
  },
  {
   "cell_type": "code",
   "execution_count": 29,
   "metadata": {},
   "outputs": [],
   "source": [
    "class Matrix:\n",
    "    def __init__(self, n, m=None):\n",
    "        if isinstance(n, list): \n",
    "            self.data=n\n",
    "            self.rows=len(n)\n",
    "            self.cols=len(n[0]) if n else 0\n",
    "            if not all(len(row)==self.cols for row in n):\n",
    "                raise ValueError(\"Error.\")\n",
    "        elif isinstance(n, int) and isinstance(m, int):  \n",
    "            self.rows, self.cols=n, m\n",
    "            self.data=[[0.0] * m for _ in range(n)]\n",
    "        else:\n",
    "            raise TypeError(\"Error.\")\n",
    "\n",
    "    def scalarmul(self, c):\n",
    "        return Matrix([[c * self.data[i][j] for j in range(self.cols)] for i in range(self.rows)])\n",
    "\n",
    "    def add(self, N):\n",
    "        if (self.rows, self.cols)!=(N.rows, N.cols):\n",
    "            raise ValueError(\"Error.\")\n",
    "        return Matrix([[self.data[i][j] + N.data[i][j] for j in range(self.cols)] for i in range(self.rows)])\n",
    "\n",
    "    def sub(self, N):\n",
    "        if (self.rows, self.cols) != (N.rows, N.cols):\n",
    "            raise ValueError(\"Error.\")\n",
    "        return Matrix([[self.data[i][j] - N.data[i][j] for j in range(self.cols)] for i in range(self.rows)])\n",
    "\n",
    "    def mat_mult(self, N):\n",
    "        if self.cols!=N.rows:\n",
    "            raise ValueError(\"Error.\")\n",
    "        return Matrix([[sum(self.data[i][k] * N.data[k][j] for k in range(self.cols)) for j in range(N.cols)] for i in range(self.rows)])\n",
    "\n",
    "    def element_mult(self, N):\n",
    "        if (self.rows, self.cols) != (N.rows, N.cols):\n",
    "            raise ValueError(\"Error.\")\n",
    "        return Matrix([[self.data[i][j] * N.data[i][j] for j in range(self.cols)] for i in range(self.rows)])\n",
    "\n",
    "    def equals(self, N):\n",
    "        return self.data==N.data\n",
    "\n",
    "    def to_list(self):\n",
    "        return self.data"
   ]
  },
  {
   "cell_type": "code",
   "execution_count": 32,
   "metadata": {},
   "outputs": [
    {
     "name": "stdout",
     "output_type": "stream",
     "text": [
      "A: [[1, 2], [3, 4]]\n",
      "B: [[5, 6], [7, 8]]\n",
      "A*2: [[2, 4], [6, 8]]\n",
      "A+B: [[6, 8], [10, 12]]\n",
      "A-B: [[-4, -4], [-4, -4]]\n",
      "A*B: [[19, 22], [43, 50]]\n",
      "A⊙B: [[5, 12], [21, 32]]\n",
      "A==B: False\n",
      "A==A: True\n"
     ]
    }
   ],
   "source": [
    "# TESTING\n",
    "A=Matrix([[1, 2], [3, 4]])\n",
    "B=Matrix([[5, 6], [7, 8]])\n",
    "print(\"A:\", A.to_list())\n",
    "print(\"B:\", B.to_list())\n",
    "print(\"A*2:\", A.scalarmul(2).to_list())\n",
    "print(\"A+B:\", A.add(B).to_list())\n",
    "print(\"A-B:\", A.sub(B).to_list())\n",
    "print(\"A*B:\", A.mat_mult(B).to_list())\n",
    "print(\"A⊙B:\", A.element_mult(B).to_list())\n",
    "print(\"A==B:\", A.equals(B))\n",
    "print(\"A==A:\", A.equals(A))\n"
   ]
  },
  {
   "cell_type": "markdown",
   "metadata": {},
   "source": [
    "5. Overload python operators to appropriately use your functions in 4 and allow expressions like:\n",
    "    * 2*M\n",
    "    * M*2\n",
    "    * M+N\n",
    "    * M-N\n",
    "    * M*N\n",
    "    * M==N\n",
    "    * M=N\n"
   ]
  },
  {
   "cell_type": "code",
   "execution_count": 33,
   "metadata": {},
   "outputs": [],
   "source": [
    "class Matrix:\n",
    "    def __init__(self, n, m=None):\n",
    "        if isinstance(n, list):\n",
    "            self.data=n\n",
    "            self.rows=len(n)\n",
    "            self.cols=len(n[0]) if n else 0\n",
    "            if not all(len(row)==self.cols for row in n):\n",
    "                raise ValueError(\"Error.\")\n",
    "        elif isinstance(n, int) and isinstance(m, int): \n",
    "            self.rows, self.cols=n, m\n",
    "            self.data=[[0.0] * m for _ in range(n)]\n",
    "        else:\n",
    "            raise TypeError(\"Error.\")\n",
    "\n",
    "    def __mul__(self, other):\n",
    "        if isinstance(other, (int, float)): \n",
    "            return Matrix([[other * self.data[i][j] for j in range(self.cols)] for i in range(self.rows)])\n",
    "        elif isinstance(other, Matrix): \n",
    "            if self.cols!=other.rows:\n",
    "                raise ValueError(\"Error.\")\n",
    "            return Matrix([[sum(self.data[i][k] * other.data[k][j] for k in range(self.cols)) for j in range(other.cols)] for i in range(self.rows)])\n",
    "        else:\n",
    "            return NotImplemented\n",
    "\n",
    "    def __rmul__(self, other):\n",
    "        return self.__mul__(other)\n",
    "\n",
    "    def __add__(self, other):\n",
    "        if not isinstance(other, Matrix) or (self.rows, self.cols)!=(other.rows, other.cols):\n",
    "            raise ValueError(\"Error.\")\n",
    "        return Matrix([[self.data[i][j]+other.data[i][j] for j in range(self.cols)] for i in range(self.rows)])\n",
    "\n",
    "    def __sub__(self, other):\n",
    "        if not isinstance(other, Matrix) or (self.rows, self.cols)!=(other.rows, other.cols):\n",
    "            raise ValueError(\"Error.\")\n",
    "        return Matrix([[self.data[i][j] - other.data[i][j] for j in range(self.cols)] for i in range(self.rows)])\n",
    "\n",
    "    def __eq__(self, other):\n",
    "        if not isinstance(other, Matrix):\n",
    "            return False\n",
    "        return self.data==other.data\n",
    "\n",
    "    def __repr__(self):\n",
    "        return f\"Matrix({self.data})\"\n",
    "\n",
    "    def to_list(self):\n",
    "        return self.data"
   ]
  },
  {
   "cell_type": "code",
   "execution_count": 34,
   "metadata": {},
   "outputs": [
    {
     "name": "stdout",
     "output_type": "stream",
     "text": [
      "A: [[1, 2], [3, 4]]\n",
      "B: [[5, 6], [7, 8]]\n",
      "2*A: [[2, 4], [6, 8]]\n",
      "A*2: [[2, 4], [6, 8]]\n",
      "A+B: [[6, 8], [10, 12]]\n",
      "A-B: [[-4, -4], [-4, -4]]\n",
      "A*B (matrix multiplication): [[19, 22], [43, 50]]\n",
      "A==B: False\n",
      "A==A: True\n"
     ]
    }
   ],
   "source": [
    "# TESTING\n",
    "A = Matrix([[1, 2], [3, 4]])\n",
    "B = Matrix([[5, 6], [7, 8]])\n",
    "print(\"A:\", A.to_list())\n",
    "print(\"B:\", B.to_list())\n",
    "print(\"2*A:\", (2*A).to_list())  \n",
    "print(\"A*2:\", (A*2).to_list())  \n",
    "print(\"A+B:\", (A+B).to_list()) \n",
    "print(\"A-B:\", (A-B).to_list())\n",
    "print(\"A*B (matrix multiplication):\", (A*B).to_list())  \n",
    "print(\"A==B:\", A==B) \n",
    "print(\"A==A:\", A==A)  "
   ]
  },
  {
   "cell_type": "markdown",
   "metadata": {},
   "source": [
    "6. Demonstrate the basic properties of matrices with your matrix class by creating two 2 by 2 example matrices using your Matrix class and illustrating the following:\n",
    "\n",
    "$$\n",
    "(AB)C=A(BC)\n",
    "$$\n",
    "$$\n",
    "A(B+C)=AB+AC\n",
    "$$\n",
    "$$\n",
    "AB\\neq BA\n",
    "$$\n",
    "$$\n",
    "AI=A\n",
    "$$"
   ]
  },
  {
   "cell_type": "code",
   "execution_count": 18,
   "metadata": {},
   "outputs": [
    {
     "name": "stdout",
     "output_type": "stream",
     "text": [
      "(AB)C: [[60, 66], [136, 150]]\n",
      "A(BC): [[60, 66], [136, 150]]\n",
      "(AB)C == A(BC): True\n",
      "A(B+C): [[23, 28], [53, 62]]\n",
      "AB + AC: [[23, 28], [53, 62]]\n",
      "A(B+C) == AB + AC: True\n",
      "AB: [[19, 22], [43, 50]]\n",
      "BA: [[23, 34], [31, 46]]\n",
      "AB == BA: False\n",
      "AI: [[1, 2], [3, 4]]\n",
      "AI == A: True\n"
     ]
    }
   ],
   "source": [
    "A=Matrix([[1, 2], [3, 4]])\n",
    "B=Matrix([[5, 6], [7, 8]])\n",
    "C=Matrix([[2, 0], [1, 3]]) \n",
    "I=Matrix([[1, 0], [0, 1]])\n",
    "\n",
    "AB=A*B\n",
    "BC=B*C\n",
    "AB_C=AB*C\n",
    "A_BC=A*BC\n",
    "print(\"(AB)C:\", AB_C.to_list())\n",
    "print(\"A(BC):\", A_BC.to_list())\n",
    "print(\"(AB)C == A(BC):\", AB_C == A_BC)\n",
    "\n",
    "# Distributive Property: A(B + C) = AB + AC\n",
    "B_plus_C = B + C\n",
    "A_B_plus_C = A * B_plus_C\n",
    "AB = A * B\n",
    "AC = A * C\n",
    "AB_plus_AC = AB + AC\n",
    "print(\"A(B+C):\", A_B_plus_C.to_list())\n",
    "print(\"AB + AC:\", AB_plus_AC.to_list())\n",
    "print(\"A(B+C) == AB + AC:\", A_B_plus_C == AB_plus_AC)\n",
    "\n",
    "# Non-Commutativity: AB != BA\n",
    "BA = B * A\n",
    "print(\"AB:\", AB.to_list())\n",
    "print(\"BA:\", BA.to_list())\n",
    "print(\"AB == BA:\", AB == BA)\n",
    "\n",
    "# Identity Property: AI = A\n",
    "AI = A * I\n",
    "print(\"AI:\", AI.to_list())\n",
    "print(\"AI == A:\", AI == A)\n"
   ]
  }
 ],
 "metadata": {
  "kernelspec": {
   "display_name": "Python 3 (ipykernel)",
   "language": "python",
   "name": "python3"
  },
  "language_info": {
   "codemirror_mode": {
    "name": "ipython",
    "version": 3
   },
   "file_extension": ".py",
   "mimetype": "text/x-python",
   "name": "python",
   "nbconvert_exporter": "python",
   "pygments_lexer": "ipython3",
   "version": "3.13.2"
  }
 },
 "nbformat": 4,
 "nbformat_minor": 4
}
