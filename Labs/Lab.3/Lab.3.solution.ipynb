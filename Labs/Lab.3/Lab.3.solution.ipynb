{
 "cells": [
  {
   "cell_type": "markdown",
   "metadata": {},
   "source": [
    "# Lab 3\n",
    "\n",
    "In this lab we will become familiar with distributions, histograms, and functional programming. Do not use numpy or any other library for this lab.\n",
    "\n",
    "Before that, lets get setup homework submission and submit your previous lab.  \n",
    "\n",
    "## Working on the Command-line.\n",
    "\n",
    "It is important for you to learn to work on the command line and to be familiar with the Unix environment (e.g. Linux, Mac OS, or Windows Linux Subsystem). We'll go over working on the command-line in detail later in the course.\n",
    "\n",
    "You are required to submit your work in this course via GitHub. Today in class, you will setup everything on the command-line.\n",
    "\n",
    "### Command-line basics\n",
    "\n",
    "There is plenty of material online that will help you figure out how to do various tasks on the command line. Commands you may need to know today:\n",
    "\n",
    "* `ls`: lists the contents of the current directory.\n",
    "* `pwd`: prints the path of the current directory.\n",
    "* `cd <directory>`: changes your current directory to the specified directory.\n",
    "* `cd ..`: changes current directory to the previous directory. Basically steps out of the current directory to the directory containing the current directory.\n",
    "* `mkdir <directory>`: create a new directory with the specified name.\n",
    "* `rmdir <directory>`: removes the specified directory. Note it has to be empty.\n",
    "* `rm <filename>`: deletes the specified file.\n",
    "* `mv <filename 1> <filename 2>`: Moves or renames a file.\n",
    "* `cp <filename 1> <filename 2>`: copies an file. If you just provide a path to a directory, it copies the file into that directory with the same filename. If you specifiy a new filename, the copy has a new name. For example `cp File.1.txt File.2.txt` creates a copy of `File.1.txt` with the name `File.2.txt`. Meanwhile `cp File.1.txt my_directory`, where `my_directory` is a directory, creates a copy of `File.1.txt` in directory `my_directory` with the name `File.1.txt`.\n",
    "\n",
    "For reference, here are some example resources I found by googling:\n",
    "\n",
    "* Paths and Wildcards: https://www.warp.dev/terminus/linux-wildcards\n",
    "* Basic commands like copy: https://kb.iu.edu/d/afsk\n",
    "* General introduction to shell: https://github-pages.ucl.ac.uk/RCPSTrainingMaterials/HPCandHTCusingLegion/2_intro_to_shell.html\n",
    "* Manual pages: https://www.geeksforgeeks.org/linux-man-page-entries-different-types/?ref=ml_lbp\n",
    "* Chaining commands: https://www.geeksforgeeks.org/chaining-commands-in-linux/?ref=ml_lbp\n",
    "* Piping: https://www.geeksforgeeks.org/piping-in-unix-or-linux/\n",
    "* Using sed: https://www.geeksforgeeks.org/sed-command-linux-set-2/?ref=ml_lbp\n",
    "* Various Unix commands: https://www.geeksforgeeks.org/linux-commands/?ref=lbp\n",
    "* Cheat sheets:\n",
    "    * https://www.stationx.net/unix-commands-cheat-sheet/\n",
    "    * https://cheatography.com/davechild/cheat-sheets/linux-command-line/\n",
    "    * https://www.theknowledgeacademy.com/blog/unix-commands-cheat-sheet/\n",
    "    \n",
    "These aren't necessarily the best resources. Feel free to search for better ones. Also, don't forget that Unix has built-in manual pages for all of its commands. Just type `man <command>` at the command prompt. Use the space-bar to scroll through the documentation and \"q\" to exit.\n",
    "\n",
    "\n",
    "### Setup and Submission\n",
    "\n",
    "Our course repository is public. The instructions here aim to have you setup a fork of the course repository. Unfortunately because you are forking a public repo, your fork will have to be public also. \n",
    "\n",
    "You should be familiar with git from the first semester of this course. I assume that you all have github accounts and have setup things to be able to [push to github using ssh](https://docs.github.com/en/github/authenticating-to-github/connecting-to-github-with-ssh). The instuctions here lead you to:\n",
    "\n",
    "We'll overview what you will do before going through step by step instructions.\n",
    "\n",
    "1. Setup:\n",
    "    1. Fork the class repository. Some directions in [fork-a-repo](https://docs.github.com/en/github/getting-started-with-github/fork-a-repo).\n",
    "    1. Create a directory on your personal system where you will keep all course materials.\n",
    "    1. In that directory, clone your fork of the repository.\n",
    "    1. Using `git remote`, set the upstream to be the class repo, so you can pull from the class and push to your fork.\n",
    "\n",
    "1. Submission:\n",
    "    1. Copy your solutions into the appropriate directory (e.g. into `Labs/Lab.2/`) and with appropriate filename `Lab.2.solution.ipynb'.\n",
    "    1. Commit / push your solutions.\n",
    " \n",
    "Below are step by step instructions with examples (including example directory naming convention). Feel free to modify things as you see fit. \n",
    "\n",
    "#### Setup\n",
    "You should only need to follow this instructions once. Here are some useful git commands:\n",
    "\n",
    "* Git help: `git help`\n",
    "* Git remote help: `git help remote`\n",
    "* Check remote status: `git remote -v`\n",
    "* Add a remote: `git remote add <stream name> <repo URL>`\n",
    "* Add a remove: `git remote remove <stream name>`\n",
    "\n",
    "Steps:\n",
    "1. In a browser, log into GitHub and navigate to the [course repository](https://github.com/UTA-DataScience/DATA3402.Spring.2025).\n",
    "1. On the top right of the page, press the fork button to create a new fork into your own GitHub account.\n",
    "1. After successful fork, you should find the browser showing your fork of the course repository. Use the green \"Code\" button to copy path to the repo into your the clipboard of your computer.\n",
    "1. Open a shell on your personal computer.\n",
    "1. If you have not done so already, create a new directory/folder where you will keep all course material to navigate to it. For example: `mkdir Data-3402` and `cd Data-3402`.\n",
    "1. Clone your fork of the repository using `git clone` followed by the path you copied into your clipboard. (copy/paste)\n",
    "1. Paste the URL to your fork in the worksheet for the TAs and instructors.\n",
    "1. Now go into the directory of your clone (`cd DATA3402.Spring.2025`).\n",
    "1. Type `git remote -v` to see the current setup for fetch and pull.\n",
    "1. Note the URL you see. This should be the same as what you used for your clone for both push and fetch.\n",
    "1. Delete the origin remote using `git remote remove origin`.\n",
    "1. Add the course repo as your remote using `git remote add origin https://github.com/UTA-DataScience/DATA3402.Spring.2025.git`.\n",
    "1. Change the push to point to your fork. This means you will need the URL to your clone we copied earlier and confirmed as the original origin. The command will look something like: `git remote set-url --push origin  https://github.com/XXXXXX/DATA3402.Spring.2025.git`, where XXXXX is your username on GitHub.\n",
    "1. Note that if you setup everything correctly, you now should be able to do `git pull` to get updates from the course repo, and do `git push` to push your commits into your own fork.\n",
    "\n",
    "### Submission\n",
    "These instructions outline how you submit files. Some useful commands:\n",
    "* To add a file to local repository: `git add <file>`.\n",
    "* To commit all changed files into local repository: `git -a -m \"A message\"`. You need to provide some comment when you commit. \n",
    "* To push the commited files from the local repository to GitHub: `git push`.\n",
    "* To get updates from GitHub: `git pull`.\n",
    "\n",
    "Steps:\n",
    "1. To submit your labs, navigate to your clone of your fork of the course repository. \n",
    "1. Use `git pull` to make sure you have the latest updates. \n",
    "1. Make sure your copy of the lab your are working on is in the appropriate place in this clone. That means if you have the file elsewhere, copy it to the same directory in your clone of your fork. \n",
    "1. Note that in order to avoid future conflicts, you should always name your solution differently than the original file in the class repo. For example if your file is still named `Lab.2.ipynb` you should rename it using the `mv` command: `mv Lab.2.ipynb Lab.2.solution.ipynb`. \n",
    "1. Add and files you wish to submit into the repo. For example: `git add Labs/Lab.2/Lab.2.solution.ipynb`\n",
    "1. Commit any changes: `git commit -a -m \"Lab 2 updates\"`\n",
    "1. Push your changes: `git push`\n",
    "1. Check on github website that your solutions have been properly submitted.\n",
    "\n",
    "Before you leave the session today, make sure your GitHub Repo is setup. If you need to work further on your lab, navigate jupyter to the copy of the lab you just submitted and work there. Once done, repeat the commit and push commands to submit your updated solution. Note that lab 2 is due by midnight Friay 1/31/2025.\n"
   ]
  },
  {
   "cell_type": "markdown",
   "metadata": {},
   "source": [
    "### Uniform Distribution\n",
    "Lets start with generating some fake random data. You can get a random number between 0 and 1 using the python random module as follow:"
   ]
  },
  {
   "cell_type": "code",
   "execution_count": 168,
   "metadata": {},
   "outputs": [
    {
     "name": "stdout",
     "output_type": "stream",
     "text": [
      "The Value of x is 0.3887472541269664\n"
     ]
    }
   ],
   "source": [
    "import random\n",
    "x=random.random()\n",
    "print(\"The Value of x is\", x)"
   ]
  },
  {
   "cell_type": "markdown",
   "metadata": {},
   "source": [
    "Everytime you call random, you will get a new number.\n",
    "\n",
    "*Exercise 1:* Using random, write a function `generate_uniform(N, mymin, mymax)`, that returns a python list containing N random numbers between specified minimum and maximum value. Note that you may want to quickly work out on paper how to turn numbers between 0 and 1 to between other values. "
   ]
  },
  {
   "cell_type": "code",
   "execution_count": 169,
   "metadata": {},
   "outputs": [],
   "source": [
    "# Skeleton\n",
    "def generate_uniform(N,x_min,x_max):\n",
    "    out=[]\n",
    "    ### BEGIN SOLUTION\n",
    "    # Fill in your solution here        \n",
    "    for _ in range(N):\n",
    "        out.append(random.uniform(x_min, x_max))\n",
    "    ### END SOLUTION\n",
    "    return out"
   ]
  },
  {
   "cell_type": "code",
   "execution_count": 170,
   "metadata": {},
   "outputs": [
    {
     "name": "stdout",
     "output_type": "stream",
     "text": [
      "Data Type: <class 'list'>\n",
      "Data Length: 1000\n",
      "Type of Data Contents: <class 'float'>\n",
      "Data Minimum: -9.962084541023774\n",
      "Data Maximum: 9.988830024973684\n"
     ]
    }
   ],
   "source": [
    "# Test your solution here\n",
    "data=generate_uniform(1000,-10,10)\n",
    "print (\"Data Type:\", type(data))\n",
    "print (\"Data Length:\", len(data))\n",
    "if len(data)>0: \n",
    "    print (\"Type of Data Contents:\", type(data[0]))\n",
    "    print (\"Data Minimum:\", min(data))\n",
    "    print (\"Data Maximum:\", max(data))"
   ]
  },
  {
   "cell_type": "markdown",
   "metadata": {},
   "source": [
    "*Exercise 2a:* \n",
    "Write a function that computes the mean of values in a list. Recall the equation for the mean of a random variable $\\bf{x}$ computed on a data set of $n$ values $\\{ x_i \\} = \\{x_1, x_2, ..., x_n\\}$  is ${\\bf\\bar{x}} = \\frac{1}{n} \\sum_i^n x_i$."
   ]
  },
  {
   "cell_type": "code",
   "execution_count": 171,
   "metadata": {},
   "outputs": [],
   "source": [
    "# Skeleton\n",
    "def mean(Data):\n",
    "    m=0.\n",
    "    \n",
    "    ### BEGIN SOLUTION\n",
    "    # Fill in your solution here        \n",
    "    m=sum(Data)/len(Data) if len(Data)>0 else 0 \n",
    "    \n",
    "    ### END SOLUTION\n",
    "    return m"
   ]
  },
  {
   "cell_type": "code",
   "execution_count": 172,
   "metadata": {},
   "outputs": [
    {
     "name": "stdout",
     "output_type": "stream",
     "text": [
      "Mean of Data: -0.1370390209102794\n"
     ]
    }
   ],
   "source": [
    "# Test your solution here\n",
    "print (\"Mean of Data:\", mean(data))"
   ]
  },
  {
   "cell_type": "markdown",
   "metadata": {},
   "source": [
    "*Exercise 2b:* \n",
    "Write a function that computes the variance of values in a list. Recall the equation for the variance of a random variable $\\bf{x}$ computed on a data set of $n$ values $\\{ x_i \\} = \\{x_1, x_2, ..., x_n\\}$  is ${\\bf\\langle x \\rangle} = \\frac{1}{n-1} \\sum_i^n (x_i - {\\bf\\bar{x}})^2$."
   ]
  },
  {
   "cell_type": "code",
   "execution_count": 173,
   "metadata": {},
   "outputs": [],
   "source": [
    "# Skeleton\n",
    "def variance(Data):\n",
    "    m=0.\n",
    "    \n",
    "    ### BEGIN SOLUTION\n",
    "    n=len(data)\n",
    "    if n==0:\n",
    "        return 0\n",
    "    # Fill in your solution here        \n",
    "    mean=sum(Data)/n\n",
    "    m=sum((x-mean)**2 for x in Data)/n \n",
    "    ### END SOLUTION\n",
    "    \n",
    "    return m"
   ]
  },
  {
   "cell_type": "code",
   "execution_count": 174,
   "metadata": {},
   "outputs": [
    {
     "name": "stdout",
     "output_type": "stream",
     "text": [
      "Variance: 34.41101178479621\n"
     ]
    }
   ],
   "source": [
    "# Test your solution here\n",
    "print (\"Variance:\", variance(data))"
   ]
  },
  {
   "cell_type": "markdown",
   "metadata": {},
   "source": [
    "## Histogramming"
   ]
  },
  {
   "cell_type": "markdown",
   "metadata": {},
   "source": [
    "*Exercise 3:* Write a function that bins the data so that you can create a histogram. An example of how to implement histogramming is the following logic:\n",
    "\n",
    "* User inputs a list of values `x` and optionally `n_bins` which defaults to 10.\n",
    "* If not supplied, find the minimum and maximum (`x_min`,`x_max`) of the values in x.\n",
    "* Determine the bin size (`bin_size`) by dividing the range of the function by the number of bins.\n",
    "* Create an empty list of zeros of size `n_bins`, call it `hist`.\n",
    "* Loop over the values in `x`\n",
    "    * Loop over the values in `hist` with index `i`:\n",
    "        * If x is between `x_min+i*bin_size` and `x_min+(i+1)*bin_size`, increment `hist[i].` \n",
    "        * For efficiency, try to use continue to goto the next bin and data point.\n",
    "* Return `hist` and the list corresponding of the bin edges (i.e. of `x_min+i*bin_size`).    "
   ]
  },
  {
   "cell_type": "code",
   "execution_count": 110,
   "metadata": {},
   "outputs": [],
   "source": [
    "# Solution\n",
    "def histogram(x,n_bins=10,x_min=None,x_max=None):\n",
    "    ### BEGIN SOLUTION\n",
    "\n",
    "    # Fill in your solution here        \n",
    "    if x_min is None:\n",
    "        x_min=min(x)\n",
    "    if x_max is None:\n",
    "        x_max=max(x)\n",
    "\n",
    "    bin_size=(x_max-x_min)/n_bins\n",
    "\n",
    "    hist=[0]*n_bins\n",
    "    bin_edges=[x_min+i*bin_size for i in range(n_bins+1)]\n",
    "\n",
    "    for value in x:\n",
    "        for i in range(n_bins):\n",
    "            if x_min+i*bin_size<=value<x_min+(i+1)*bin_size:\n",
    "                hist[i]+=1\n",
    "                break\n",
    "        if x_max in x:\n",
    "            hist[-1]+=1\n",
    "    ### END SOLUTION\n",
    "\n",
    "    return hist,bin_edges"
   ]
  },
  {
   "cell_type": "code",
   "execution_count": 111,
   "metadata": {},
   "outputs": [
    {
     "name": "stdout",
     "output_type": "stream",
     "text": [
      "[210, 197, 205, 189, 1198]\n"
     ]
    }
   ],
   "source": [
    "# Test your solution here\n",
    "h,b=histogram(data,5)\n",
    "print(h)"
   ]
  },
  {
   "cell_type": "markdown",
   "metadata": {},
   "source": [
    "*Exercise 4:* Write a function that uses the histogram function in the previous exercise to create a text-based \"graph\". For example the output could look like the following:\n",
    "```\n",
    "[  0,  1] : ######\n",
    "[  1,  2] : #####\n",
    "[  2,  3] : ######\n",
    "[  3,  4] : ####\n",
    "[  4,  5] : ####\n",
    "[  5,  6] : ######\n",
    "[  6,  7] : #####\n",
    "[  7,  8] : ######\n",
    "[  8,  9] : ####\n",
    "[  9, 10] : #####\n",
    "```\n",
    "\n",
    "Where each line corresponds to a bin and the number of `#`'s are proportional to the value of the data in the bin. "
   ]
  },
  {
   "cell_type": "code",
   "execution_count": 175,
   "metadata": {},
   "outputs": [],
   "source": [
    "# Solution\n",
    "def draw_histogram(x,n_bins,x_min=None,x_max=None,character=\"#\",max_character_per_line=20):\n",
    "    ### BEGIN SOLUTION\n",
    "\n",
    "    # Fill in your solution here        \n",
    "    hist, bin_edges=histogram(x, n_bins, x_min, x_max)\n",
    "\n",
    "    if not hist:\n",
    "        print(\"No data found.\")\n",
    "        return hist, bin_edges\n",
    "        \n",
    "    max_count=max(hist) if max(hist)>0 else 1\n",
    "        \n",
    "    for i in range(n_bins):\n",
    "        bin_range = f\"[{bin_edges[i]:5.1f}, {bin_edges[i+1]:5.1f}]\"\n",
    "        bar_length = int((hist[i] / max_count) * max_character_per_line) \n",
    "        print(f\"{bin_range} : {character * bar_length}\")\n",
    "    ### END SOLUTION\n",
    "\n",
    "    return hist,bin_edges"
   ]
  },
  {
   "cell_type": "code",
   "execution_count": 176,
   "metadata": {
    "scrolled": true
   },
   "outputs": [
    {
     "name": "stdout",
     "output_type": "stream",
     "text": [
      "[-10.0,  -9.0] : \n",
      "[ -9.0,  -8.0] : #\n",
      "[ -8.0,  -7.0] : #\n",
      "[ -7.0,  -6.0] : #\n",
      "[ -6.0,  -5.0] : \n",
      "[ -5.0,  -4.0] : #\n",
      "[ -4.0,  -3.0] : \n",
      "[ -3.0,  -2.0] : \n",
      "[ -2.0,  -1.0] : \n",
      "[ -1.0,   0.0] : #\n",
      "[  0.0,   1.0] : \n",
      "[  1.0,   2.0] : \n",
      "[  2.0,   3.0] : \n",
      "[  3.0,   4.0] : #\n",
      "[  4.0,   5.0] : \n",
      "[  5.0,   6.0] : \n",
      "[  6.0,   7.0] : #\n",
      "[  7.0,   8.0] : #\n",
      "[  8.0,   9.0] : \n",
      "[  9.0,  10.0] : ####################\n"
     ]
    },
    {
     "data": {
      "text/plain": [
       "([42,\n",
       "  58,\n",
       "  59,\n",
       "  64,\n",
       "  44,\n",
       "  64,\n",
       "  42,\n",
       "  42,\n",
       "  51,\n",
       "  55,\n",
       "  44,\n",
       "  44,\n",
       "  41,\n",
       "  59,\n",
       "  31,\n",
       "  44,\n",
       "  55,\n",
       "  57,\n",
       "  52,\n",
       "  1051],\n",
       " [-9.962084541023774,\n",
       "  -8.964538812723902,\n",
       "  -7.966993084424028,\n",
       "  -6.969447356124156,\n",
       "  -5.971901627824282,\n",
       "  -4.97435589952441,\n",
       "  -3.976810171224537,\n",
       "  -2.9792644429246637,\n",
       "  -1.9817187146247912,\n",
       "  -0.9841729863249178,\n",
       "  0.01337274197495475,\n",
       "  1.0109184702748273,\n",
       "  2.0084641985747,\n",
       "  3.0060099268745724,\n",
       "  4.003555655174447,\n",
       "  5.001101383474319,\n",
       "  5.998647111774192,\n",
       "  6.996192840074066,\n",
       "  7.993738568373939,\n",
       "  8.991284296673811,\n",
       "  9.988830024973684])"
      ]
     },
     "execution_count": 176,
     "metadata": {},
     "output_type": "execute_result"
    }
   ],
   "source": [
    "# Test your solution here\n",
    "h, b = histogram(data, 10)\n",
    "draw_histogram(data, 20)"
   ]
  },
  {
   "cell_type": "markdown",
   "metadata": {},
   "source": [
    "## Functional Programming\n",
    "\n",
    "*Exercise 5:* Write a function the applies a booling function (that returns true/false) to every element in data, and return a list of indices of elements where the result was true. Use this function to find the indices of entries greater than 0.5. "
   ]
  },
  {
   "cell_type": "code",
   "execution_count": 177,
   "metadata": {},
   "outputs": [],
   "source": [
    "def where(mylist,myfunc):\n",
    "    out= []\n",
    "    \n",
    "    ### BEGIN SOLUTION\n",
    "\n",
    "    # Fill in your solution here        \n",
    "    for i, value in enumerate(mylist):\n",
    "        if myfunc(value):\n",
    "            out.append(i)\n",
    "    ### END SOLUTION\n",
    "    \n",
    "    return out"
   ]
  },
  {
   "cell_type": "code",
   "execution_count": 178,
   "metadata": {},
   "outputs": [
    {
     "name": "stdout",
     "output_type": "stream",
     "text": [
      "Indices: [3]\n"
     ]
    }
   ],
   "source": [
    "# Test your solution here\n",
    "data=[0.1, 0.2, 0.5, 0.8]\n",
    "\n",
    "indices = where(data, lambda x: x>0.5)\n",
    "print(\"Indices:\", indices)"
   ]
  },
  {
   "cell_type": "markdown",
   "metadata": {},
   "source": [
    "*Exercise 6:* The `inrange(mymin,mymax)` function below returns a function that tests if it's input is between the specified values. Write corresponding functions that test:\n",
    "* Even\n",
    "* Odd\n",
    "* Greater than\n",
    "* Less than\n",
    "* Equal\n",
    "* Divisible by"
   ]
  },
  {
   "cell_type": "code",
   "execution_count": 91,
   "metadata": {},
   "outputs": [
    {
     "name": "stdout",
     "output_type": "stream",
     "text": [
      "True True False False False\n",
      "False False True True False\n",
      "Number of Entries passing F1: 15\n",
      "Number of Entries passing F2: 3\n"
     ]
    }
   ],
   "source": [
    "def in_range(mymin,mymax):\n",
    "    def testrange(x):\n",
    "        return x<mymax and x>=mymin\n",
    "    return testrange\n",
    "\n",
    "# Examples:\n",
    "F1=in_range(0,10)\n",
    "F2=in_range(10,20)\n",
    "\n",
    "# Test of in_range\n",
    "print (F1(0), F1(1), F1(10), F1(15), F1(20))\n",
    "print (F2(0), F2(1), F2(10), F2(15), F2(20))\n",
    "\n",
    "print (\"Number of Entries passing F1:\", len(where(data,F1)))\n",
    "print (\"Number of Entries passing F2:\", len(where(data,F2)))"
   ]
  },
  {
   "cell_type": "code",
   "execution_count": 181,
   "metadata": {},
   "outputs": [],
   "source": [
    "### BEGIN SOLUTION\n",
    "\n",
    "    # Fill in your solution here      \n",
    "\n",
    "def even():\n",
    "    return lambda x: x%2== 0\n",
    "\n",
    "def odd():\n",
    "    return lambda x:x%2== 0\n",
    "\n",
    "def greater_than(value):\n",
    "    return lambda x:x>value\n",
    "\n",
    "def less_than(value):\n",
    "    return lambda x:x<value\n",
    "\n",
    "def equal(value):\n",
    "    return lambda x:x==value\n",
    "\n",
    "def divisible_by(value):\n",
    "    return lambda x:x%value==0\n",
    "\n",
    "### END SOLUTION"
   ]
  },
  {
   "cell_type": "code",
   "execution_count": 182,
   "metadata": {},
   "outputs": [
    {
     "name": "stdout",
     "output_type": "stream",
     "text": [
      "True True False False False\n",
      "False False True True False\n",
      "Even: []\n",
      "Odd: []\n",
      "Greater than 5: []\n",
      "Less than 5: [0, 1, 2, 3]\n",
      "Equal to 4: []\n",
      "Divisible by 2: []\n"
     ]
    }
   ],
   "source": [
    "# Testing \n",
    "\n",
    "data = [0.3, 0.6, 0.2, 0.8]\n",
    "F1 = in_range(0, 10)\n",
    "F2 = in_range(10, 20)\n",
    "\n",
    "print(F1(0), F1(1), F1(10), F1(15), F1(20))\n",
    "print(F2(0), F2(1), F2(10), F2(15), F2(20))\n",
    "\n",
    "print(\"Even:\", where(data, even()))\n",
    "print(\"Odd:\", where(data, odd()))\n",
    "print(\"Greater than 5:\", where(data, greater_than(5)))\n",
    "print(\"Less than 5:\", where(data, less_than(5)))\n",
    "print(\"Equal to 4:\", where(data, equal(4)))\n",
    "print(\"Divisible by 2:\", where(data, divisible_by(2)))"
   ]
  },
  {
   "cell_type": "markdown",
   "metadata": {},
   "source": [
    "*Exercise 7:* Repeat the previous exercise using `lambda` and the built-in python functions sum and map instead of your solution above. "
   ]
  },
  {
   "cell_type": "code",
   "execution_count": 184,
   "metadata": {},
   "outputs": [
    {
     "name": "stdout",
     "output_type": "stream",
     "text": [
      "Even Numbers: 6\n",
      "Odd Numbers: 12\n",
      "Numbers Greater than 5: 6\n",
      "Numbers Less than 5: 12\n",
      "Numbers Equal to 4: 1\n",
      "Numbers Divisible by 2: 6\n"
     ]
    }
   ],
   "source": [
    "### BEGIN SOLUTION\n",
    "\n",
    "    # Fill in your solution here        \n",
    "    # ### BEGIN SOLUTION\n",
    "\n",
    "# Example data\n",
    "data=[0.1, 0.9, 0.4, 0.9, 0.2, 0.8, 0.6, 0.3, 0.5, 0.95, 2, 4, 7, 8, 9, 10, 12, 14]\n",
    "\n",
    "even= sum(map(lambda x: x%2==0, data))\n",
    "\n",
    "odd=sum(map(lambda x: x%2 != 0, data))\n",
    "\n",
    "greater_than_5 = sum(map(lambda x: x>5, data))\n",
    "\n",
    "less_than_5 = sum(map(lambda x: x<5, data))\n",
    "\n",
    "equal_to_4 = sum(map(lambda x: x==4, data))\n",
    "\n",
    "divisible_by_2 = sum(map(lambda x: x%2==0, data))\n",
    "\n",
    "# Print the results\n",
    "print(\"Even Numbers:\", even)\n",
    "print(\"Odd Numbers:\", odd)\n",
    "print(\"Numbers Greater than 5:\", greater_than_5)\n",
    "print(\"Numbers Less than 5:\", less_than_5)\n",
    "print(\"Numbers Equal to 4:\", equal_to_4)\n",
    "print(\"Numbers Divisible by 2:\", divisible_by_2)\n",
    "\n",
    "# ### END SOLUTION\n",
    "\n",
    "### END SOLUTION"
   ]
  },
  {
   "cell_type": "markdown",
   "metadata": {},
   "source": [
    "## Monte Carlo\n",
    "\n",
    "*Exercise 7:* Write a \"generator\" function called `generate_function(func,x_min,x_max,N)`, that instead of generating a flat distribution, generates a distribution with functional form coded in `func`. Note that `func` will always be > 0.  \n",
    "\n",
    "Use the test function below and your histogramming functions above to demonstrate that your generator is working properly.\n",
    "\n",
    "Hint: A simple, but slow, solution is to a draw random number `test_x` within the specified range and another number `p` between the `min` and `max` of the function (which you will have to determine). If `p<=function(test_x)`, then place `test_x` on the output. If not, repeat the process, drawing two new numbers. Repeat until you have the specified number of generated numbers, `N`. For this problem, it's OK to determine the `min` and `max` by numerically sampling the function.  "
   ]
  },
  {
   "cell_type": "code",
   "execution_count": 193,
   "metadata": {},
   "outputs": [],
   "source": [
    "def generate_function(func,x_min,x_max,N=1000):\n",
    "    out = list()\n",
    "    ### BEGIN SOLUTION\n",
    "\n",
    "    # Fill in your solution here        \n",
    "    samples= [func(x_min + (x_max-x_min) * i/1000) for i in range(1001)]\n",
    "    func_max=max(samples)\n",
    "\n",
    "    while len(out)<N:\n",
    "        test=random.uniform(x_min, x_max)\n",
    "        p=random.uniform(0, func_max)\n",
    "        \n",
    "        if p<=func(test):\n",
    "            out.append(test)\n",
    "    ### END SOLUTION\n",
    "    \n",
    "    return out"
   ]
  },
  {
   "cell_type": "code",
   "execution_count": 194,
   "metadata": {},
   "outputs": [
    {
     "name": "stdout",
     "output_type": "stream",
     "text": [
      "[72, 66, 54, 43, 36, 30, 16, 4, 2, 20, 20, 34, 55, 56, 67, 69, 78, 98, 85, 1094]\n"
     ]
    }
   ],
   "source": [
    "# A test function\n",
    "def test_func(x,a=1,b=1):\n",
    "    return abs(a*x+b)\n",
    "\n",
    "generated_values = generate_function(test_func, -5, 5, 1000)\n",
    "h, b = histogram(generated_values, 20)\n",
    "print(h)"
   ]
  },
  {
   "cell_type": "markdown",
   "metadata": {},
   "source": [
    "*Exercise 8:* Use your function to generate 1000 numbers that are normal distributed, using the `gaussian` function below. Confirm the mean and variance of the data is close to the mean and variance you specify when building the Gaussian. Histogram the data. "
   ]
  },
  {
   "cell_type": "code",
   "execution_count": 196,
   "metadata": {
    "scrolled": true
   },
   "outputs": [
    {
     "name": "stdout",
     "output_type": "stream",
     "text": [
      "Mean: -0.03544119478734749\n",
      "Variance: 0.9671636506108268\n",
      "Histogram: [3, 7, 18, 33, 46, 70, 114, 126, 175, 118, 116, 59, 67, 29, 7, 6, 3, 2, 0, 1000]\n"
     ]
    }
   ],
   "source": [
    "import random\n",
    "import math\n",
    "import numpy as np\n",
    "\n",
    "def gaussian(mean, sigma):\n",
    "    def f(x):\n",
    "        return math.exp(-((x-mean)**2)/(2*sigma**2))/math.sqrt(math.pi*sigma)\n",
    "    return f\n",
    "\n",
    "def generate(func, x_min, x_max, N=1000):\n",
    "    out=list()\n",
    "    samples=[func(x) for x in [x_min + (x_max - x_min) * i / 1000 for i in range(1001)]]\n",
    "    func_max=max(samples)\n",
    "\n",
    "    while len(out) < N:\n",
    "        test=random.uniform(x_min, x_max)\n",
    "        p=random.uniform(0, func_max)\n",
    "        \n",
    "        if p<=func(test):\n",
    "            out.append(test)\n",
    "    \n",
    "    return out\n",
    "\n",
    "# Example Instantiation\n",
    "g1 = gaussian(0, 1)\n",
    "g2=gaussian(10,3)\n",
    "\n",
    "values=generate(g1, -5, 5, 1000)\n",
    "\n",
    "h, b=histogram(values, 20)\n",
    "\n",
    "import numpy as np\n",
    "mean=np.mean(values)\n",
    "variance = np.var(values)\n",
    "\n",
    "print(\"Mean:\", mean)\n",
    "print(\"Variance:\", variance)\n",
    "print(\"Histogram:\", h)\n"
   ]
  },
  {
   "cell_type": "markdown",
   "metadata": {},
   "source": [
    "*Exercise 9:* Combine your `generate_function`, `where`, and `in_range` functions above to create an integrate function. Use your integrate function to show that approximately 68% of Normal distribution is within one variance."
   ]
  },
  {
   "cell_type": "code",
   "execution_count": 204,
   "metadata": {},
   "outputs": [],
   "source": [
    "import random\n",
    "import math\n",
    "\n",
    "def integrate(func, x_min, x_max, n_points=10000):\n",
    "    points=generate_function(func, x_min, x_max, n_points)\n",
    "    total_area=0\n",
    "    for point in points:\n",
    "        if x_min<=point<=x_max:\n",
    "            total_area += func(point)\n",
    "    \n",
    "    integral=total_area/len(points)*(x_max-x_min)\n",
    "    \n",
    "    return integral\n",
    "    \n",
    "def generate_function(func, x_min, x_max, N=1000):\n",
    "    out=[]\n",
    "    max_func_value=func(x_min)  \n",
    "\n",
    "    while len(out) < N:\n",
    "        x=random.uniform(x_min, x_max)  \n",
    "        y=random.uniform(0, max_func_value)\n",
    "        \n",
    "        if y<=func(x):\n",
    "            out.append(x)\n",
    "            \n",
    "    return out\n",
    "    \n",
    "def gaussian(mean, sigma):\n",
    "    def f(x):\n",
    "        return math.exp(-((x-mean)**2)/(2*sigma**2))/math.sqrt(2*math.pi*sigma**2)\n",
    "    return f\n",
    "\n"
   ]
  },
  {
   "cell_type": "code",
   "execution_count": 205,
   "metadata": {},
   "outputs": [
    {
     "name": "stdout",
     "output_type": "stream",
     "text": [
      "Normal Distribution: 0.681322713609217\n"
     ]
    }
   ],
   "source": [
    "g1 = gaussian(0, 1)\n",
    "\n",
    "integral_value = integrate(g1, -1, 1, 10000)\n",
    "\n",
    "print(\"Normal Distribution:\", integral_value)"
   ]
  }
 ],
 "metadata": {
  "kernelspec": {
   "display_name": "Python 3 (ipykernel)",
   "language": "python",
   "name": "python3"
  },
  "language_info": {
   "codemirror_mode": {
    "name": "ipython",
    "version": 3
   },
   "file_extension": ".py",
   "mimetype": "text/x-python",
   "name": "python",
   "nbconvert_exporter": "python",
   "pygments_lexer": "ipython3",
   "version": "3.13.2"
  }
 },
 "nbformat": 4,
 "nbformat_minor": 4
}
