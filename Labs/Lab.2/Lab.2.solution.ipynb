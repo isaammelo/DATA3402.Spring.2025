{
 "cells": [
  {
   "cell_type": "markdown",
   "metadata": {},
   "source": [
    "## Lab 2- Tic Tac Toe\n",
    "\n",
    "In this lab your will build a n x n Tic Tac Toe game. As you do the exercises, make sure your solutions work for any size Tic Tac Toe game. "
   ]
  },
  {
   "cell_type": "markdown",
   "metadata": {},
   "source": [
    "*Exercise 1:* Write a function that creates an n by n matrix (of list of lists) which will represent the state of a Tie Tac Toe game. Let 0, 1, and 2 represent empty, \"X\", and \"O\", respectively.\n"
   ]
  },
  {
   "cell_type": "code",
   "execution_count": 12,
   "metadata": {},
   "outputs": [],
   "source": [
    "# Write you solution here\n",
    "def tic_tac_toe(n):\n",
    "    board = [[0 for _ in range(n)] for _ in range(n)]\n",
    "    return board"
   ]
  },
  {
   "cell_type": "code",
   "execution_count": 142,
   "metadata": {},
   "outputs": [
    {
     "name": "stdout",
     "output_type": "stream",
     "text": [
      "[0, 0, 0]\n",
      "[0, 0, 0]\n",
      "[0, 0, 0]\n"
     ]
    }
   ],
   "source": [
    "# Test your solution here\n",
    "board=tic_tac_toe(3)\n",
    "for row in board:\n",
    "    print(row)\n"
   ]
  },
  {
   "cell_type": "markdown",
   "metadata": {},
   "source": [
    "*Exercise 2:* Write a function that takes 2 integers `n` and `m` as input and draws a `n` by `m` game board. For example the following is a 3x3 board:\n",
    "```\n",
    "   --- --- --- \n",
    "  |   |   |   | \n",
    "   --- --- ---  \n",
    "  |   |   |   | \n",
    "   --- --- ---  \n",
    "  |   |   |   | \n",
    "   --- --- --- \n",
    "   ```"
   ]
  },
  {
   "cell_type": "code",
   "execution_count": 38,
   "metadata": {},
   "outputs": [],
   "source": [
    "# Write you solution here\n",
    "\n",
    "def draw_board(n, m):\n",
    "    horizontal = ' ---' * m\n",
    "    vertical = '|' + '   |' * m \n",
    "    \n",
    "    for i in range(n):\n",
    "        print(horizontal)  \n",
    "        print(vertical)    \n",
    "    print(horizontal) "
   ]
  },
  {
   "cell_type": "code",
   "execution_count": 45,
   "metadata": {},
   "outputs": [
    {
     "name": "stdout",
     "output_type": "stream",
     "text": [
      " --- --- ---\n",
      "|   |   |   |\n",
      " --- --- ---\n",
      "|   |   |   |\n",
      " --- --- ---\n",
      "|   |   |   |\n",
      " --- --- ---\n"
     ]
    }
   ],
   "source": [
    "# Test your solution here\n",
    "draw_board(3, 3)\n"
   ]
  },
  {
   "cell_type": "markdown",
   "metadata": {},
   "source": [
    "*Exercise 3:* Modify exercise 2, so that it takes a matrix of the form from exercise 1 and draws a tic-tac-tie board with \"X\"s and \"O\"s.  "
   ]
  },
  {
   "cell_type": "code",
   "execution_count": 48,
   "metadata": {},
   "outputs": [],
   "source": [
    "# Write you solution here\n",
    "\n",
    "def draw_board(board):\n",
    "    for i in range(len(board)):\n",
    "        row = \"\"\n",
    "        print(\" ---\" * len(board[i])) \n",
    "        for j in range(len(board[i])):\n",
    "            if board[i][j] == 0:\n",
    "                row += \"   |\"\n",
    "            elif board[i][j] == 1:\n",
    "                row += \" X |\" \n",
    "            elif board[i][j] == 2:\n",
    "                row += \" O |\"\n",
    "        print(row)\n",
    "\n",
    "    print(\" ---\" * len(board[0])) \n"
   ]
  },
  {
   "cell_type": "code",
   "execution_count": 50,
   "metadata": {},
   "outputs": [
    {
     "name": "stdout",
     "output_type": "stream",
     "text": [
      " --- --- ---\n",
      " X |   | O |\n",
      " --- --- ---\n",
      " O | X |   |\n",
      " --- --- ---\n",
      " X |   | O |\n",
      " --- --- ---\n"
     ]
    }
   ],
   "source": [
    "# Test your solution here\n",
    "board = [\n",
    "    [1, 0, 2],\n",
    "    [2, 1, 0],\n",
    "    [1, 0, 2]\n",
    "]\n",
    "\n",
    "draw_board(board)\n"
   ]
  },
  {
   "cell_type": "markdown",
   "metadata": {},
   "source": [
    "*Exercise 4:* Write a function that takes a `n` by `n` matrix representing a tic-tac-toe game, and returns -1, 0, 1, or 2 indicating the game is incomplete, the game is a draw, player 1 has won, or player 2 has one, respectively. Here are some example inputs you can use to test your code:"
   ]
  },
  {
   "cell_type": "code",
   "execution_count": 76,
   "metadata": {},
   "outputs": [],
   "source": [
    "# Write you solution here\n",
    "\n",
    "def winner(board): \n",
    "    n = len(board)\n",
    "\n",
    "    for i in range(n): \n",
    "        if all(board[i][j] == board[i][0] and board[i][j] != 0 for j in range(n)): \n",
    "            return board[i][0]\n",
    "        \n",
    "        if all(board[j][i] == board[0][i] and board[j][i] != 0 for j in range(n)): \n",
    "            return board[0][i]\n",
    "\n",
    "    if all(board[i][i] == board[0][0] and board[i][i] != 0 for i in range(n)): \n",
    "        return board[0][0]\n",
    "\n",
    "    if all(board[i][n-i-1] == board[0][n-1] and board[i][n-i-1] != 0 for i in range(n)): \n",
    "        return board[0][n-1]\n",
    "\n",
    "    for row in board: \n",
    "        if 0 in row: \n",
    "            return -1\n",
    "\n",
    "    return 0"
   ]
  },
  {
   "cell_type": "code",
   "execution_count": 78,
   "metadata": {},
   "outputs": [
    {
     "name": "stdout",
     "output_type": "stream",
     "text": [
      "2\n",
      "1\n",
      "-1\n"
     ]
    }
   ],
   "source": [
    "# Test your solution here\n",
    "game_win = [\n",
    "    [2, 1, 1], \n",
    "    [2, 0, 1], \n",
    "    [2, 1, 2]\n",
    "]\n",
    "\n",
    "game_draw = [\n",
    "    [1, 2, 1], \n",
    "    [2, 1, 2], \n",
    "    [2, 1, 1]\n",
    "]\n",
    "\n",
    "game_incomplete = [\n",
    "    [2, 2, 0], \n",
    "    [1, 1, 0],\n",
    "    [2, 1, 0]\n",
    "]\n",
    "\n",
    "print(winner(game_win))        \n",
    "print(winner(game_draw))       \n",
    "print(winner(game_incomplete)) \n"
   ]
  },
  {
   "cell_type": "code",
   "execution_count": 80,
   "metadata": {},
   "outputs": [],
   "source": [
    "winner_is_2 = [[2, 2, 0],\n",
    "\t[2, 1, 0],\n",
    "\t[2, 1, 1]]\n",
    "\n",
    "winner_is_1 = [[1, 2, 0],\n",
    "\t[2, 1, 0],\n",
    "\t[2, 1, 1]]\n",
    "\n",
    "winner_is_also_1 = [[0, 1, 0],\n",
    "\t[2, 1, 0],\n",
    "\t[2, 1, 1]]\n",
    "\n",
    "no_winner = [[1, 2, 0],\n",
    "\t[2, 1, 0],\n",
    "\t[2, 1, 2]]\n",
    "\n",
    "also_no_winner = [[1, 2, 0],\n",
    "\t[2, 1, 0],\n",
    "\t[2, 1, 0]]"
   ]
  },
  {
   "cell_type": "markdown",
   "metadata": {},
   "source": [
    "*Exercise 5:* Write a function that takes a game board, player number, and `(x,y)` coordinates and places \"X\" or \"O\" in the correct location of the game board. Make sure that you only allow filling previously empty locations. Return `True` or `False` to indicate successful placement of \"X\" or \"O\"."
   ]
  },
  {
   "cell_type": "code",
   "execution_count": 85,
   "metadata": {},
   "outputs": [],
   "source": [
    "# Write you solution here\n",
    "\n",
    "def symbol(board, player, coordinates): \n",
    "    x, y=coordinates\n",
    "\n",
    "    if board[x][y]==0:\n",
    "        board[x][y]=player\n",
    "        return True \n",
    "    else:\n",
    "        return False "
   ]
  },
  {
   "cell_type": "code",
   "execution_count": 87,
   "metadata": {},
   "outputs": [
    {
     "name": "stdout",
     "output_type": "stream",
     "text": [
      "True\n",
      "False\n",
      "True\n",
      "[1, 0, 0]\n",
      "[0, 2, 0]\n",
      "[0, 0, 0]\n"
     ]
    }
   ],
   "source": [
    "# Test your solution here\n",
    "\n",
    "board=[\n",
    "    [0, 0, 0],\n",
    "    [0, 0, 0],\n",
    "    [0, 0, 0]\n",
    "]\n",
    "print(symbol(board, 1, (0, 0)))\n",
    "print(symbol(board, 2, (0, 0)))\n",
    "print(symbol(board, 2, (1, 1)))\n",
    "\n",
    "for row in board: \n",
    "    print(row) "
   ]
  },
  {
   "cell_type": "markdown",
   "metadata": {},
   "source": [
    "*Exercise 6:* Modify Exercise 3 to show column and row labels so that players can specify location using \"A2\" or \"C1\"."
   ]
  },
  {
   "cell_type": "code",
   "execution_count": 100,
   "metadata": {},
   "outputs": [],
   "source": [
    "# Write you solution here\n",
    "def boards(board):\n",
    "    n=len(board)\n",
    "\n",
    "    print(\" \", end=\"\")\n",
    "    for col in range(n):\n",
    "        print(f\" {col+1} \", end=\"\") \n",
    "    print()\n",
    "\n",
    "    for i in range(n): \n",
    "        row=\"\"\n",
    "\n",
    "        print(f\"{chr(65+i)}\", end=\" \") \n",
    "\n",
    "        for j in range(n): \n",
    "            if board[i][j]==0: \n",
    "                row +=\"  |\"\n",
    "            elif board[i][j]==1:\n",
    "                row +=\" X |\"\n",
    "            elif board [i][j]==2:\n",
    "                row +=\" O |\"\n",
    "        print(row)\n",
    "        print(\" ---\"*n)\n",
    "            "
   ]
  },
  {
   "cell_type": "code",
   "execution_count": 102,
   "metadata": {},
   "outputs": [
    {
     "name": "stdout",
     "output_type": "stream",
     "text": [
      "  1  2  3 \n",
      "A  O |  | X |\n",
      " --- --- ---\n",
      "B  X | O |  |\n",
      " --- --- ---\n",
      "C  O |  | X |\n",
      " --- --- ---\n"
     ]
    }
   ],
   "source": [
    "# Test your solution here\n",
    "board=[\n",
    "    [2, 0, 1], \n",
    "    [1, 2, 0],\n",
    "    [2, 0, 1]\n",
    "]\n",
    "\n",
    "boards(board)"
   ]
  },
  {
   "cell_type": "markdown",
   "metadata": {},
   "source": [
    "*Exercise 7:* Write a function that takes a board, player number, and location specified as in exercise 6 and then calls exercise 5 to correctly modify the board.  "
   ]
  },
  {
   "cell_type": "code",
   "execution_count": 127,
   "metadata": {},
   "outputs": [],
   "source": [
    "# Write you solution here\n",
    "\n",
    "def boards(board): \n",
    "    n=len(board) \n",
    "\n",
    "    print(\"    \", end=\"\") \n",
    "    for col in range(n): \n",
    "        print(f\" {col+1} \", end=\"\")\n",
    "    print()\n",
    "\n",
    "    for i in range(n): \n",
    "        row= \"\"\n",
    "        print(f\"{chr(65+i)}\", end=\" \")\n",
    "\n",
    "        for j in range(n):\n",
    "            if board[i][j]==0:\n",
    "               row += \"   |\"\n",
    "            elif board[i][j]==1:\n",
    "               row += \" X |\"\n",
    "            elif board[i][j]==2:\n",
    "               row += \" O |\"\n",
    "        print(row)\n",
    "        print(\" ---\"* n)\n",
    "\n",
    "def symbol(board, player, coordinates): \n",
    "    x, y=coordinates\n",
    "\n",
    "    if board[x][y]==0:\n",
    "        board[x][y]=player\n",
    "        return True \n",
    "    else:\n",
    "        return False \n",
    "\n",
    "def modified(board, player, location):\n",
    "    row=ord(location[0].upper())-ord('A')\n",
    "    col=int(location[1])- 1\n",
    "\n",
    "    if symbol(board, player, (row, col)):\n",
    "        return True \n",
    "    else:\n",
    "        return False     \n",
    "            "
   ]
  },
  {
   "cell_type": "code",
   "execution_count": 128,
   "metadata": {},
   "outputs": [
    {
     "name": "stdout",
     "output_type": "stream",
     "text": [
      "     1  2  3 \n",
      "A  X |   | O |\n",
      " --- --- ---\n",
      "B  O | X |   |\n",
      " --- --- ---\n",
      "C  O |   | X |\n",
      " --- --- ---\n",
      "True\n",
      "False\n",
      "     1  2  3 \n",
      "A  X | X | O |\n",
      " --- --- ---\n",
      "B  O | X |   |\n",
      " --- --- ---\n",
      "C  O |   | X |\n",
      " --- --- ---\n"
     ]
    }
   ],
   "source": [
    "# Test your solution here\n",
    "\n",
    "board=[\n",
    "    [1, 0, 2], \n",
    "    [2, 1, 0], \n",
    "    [2, 0, 1]\n",
    "]\n",
    "\n",
    "boards(board) \n",
    "\n",
    "print(modified(board, 1, \"A2\"))\n",
    "print(modified(board, 2, \"B1\"))\n",
    "\n",
    "boards(board) # new one "
   ]
  },
  {
   "cell_type": "markdown",
   "metadata": {},
   "source": [
    "*Exercise 8:* Write a function is called with a board and player number, takes input from the player using python's `input`, and modifies the board using your function from exercise 7. Note that you should keep asking for input until you have gotten a valid input that results in a valid move."
   ]
  },
  {
   "cell_type": "code",
   "execution_count": 131,
   "metadata": {},
   "outputs": [],
   "source": [
    "# Write you solution here\n",
    "\n",
    "def boards(board): \n",
    "    n=len(board) \n",
    "\n",
    "    print(\"    \", end=\"\") \n",
    "    for col in range(n): \n",
    "        print(f\" {col+1} \", end=\"\")\n",
    "    print()\n",
    "\n",
    "    for i in range(n): \n",
    "        row= \"\"\n",
    "        print(f\"{chr(65+i)}\", end=\" \")\n",
    "\n",
    "        for j in range(n):\n",
    "            if board[i][j]==0:\n",
    "               row += \"   |\"\n",
    "            elif board[i][j]==1:\n",
    "               row += \" X |\"\n",
    "            elif board[i][j]==2:\n",
    "               row += \" O |\"\n",
    "        print(row)\n",
    "        print(\" ---\"* n)\n",
    "\n",
    "def symbol(board, player, coordinates): \n",
    "    x, y=coordinates\n",
    "\n",
    "    if board[x][y]==0:\n",
    "        board[x][y]=player\n",
    "        return True \n",
    "    else:\n",
    "        return False \n",
    "\n",
    "def modified(board, player, location):\n",
    "    row=ord(location[0].upper())-ord('A')\n",
    "    col=int(location[1])- 1\n",
    "\n",
    "    if symbol(board, player, (row, col)):\n",
    "        return True \n",
    "    else:\n",
    "        return False     \n",
    "\n",
    "def moves(board, player): \n",
    "    while True: \n",
    "        location=input(f\"Your turn Player {player}, enter a letter/number combination\").strip().upper()\n",
    "\n",
    "        if len(location)==2 and location[0] in \"ABC\" and location[1] in \"123\":\n",
    "            if modified(board, player, location): \n",
    "                return \n",
    "            else:\n",
    "                print(\"This location is already occupied.\")\n",
    "        else:\n",
    "            print(\"Please enter a valid location.\") \n"
   ]
  },
  {
   "cell_type": "markdown",
   "metadata": {},
   "source": []
  },
  {
   "cell_type": "code",
   "execution_count": 132,
   "metadata": {},
   "outputs": [
    {
     "name": "stdout",
     "output_type": "stream",
     "text": [
      "     1  2  3 \n",
      "A  O |   | X |\n",
      " --- --- ---\n",
      "B  X | O |   |\n",
      " --- --- ---\n",
      "C  X |   | O |\n",
      " --- --- ---\n"
     ]
    },
    {
     "name": "stdin",
     "output_type": "stream",
     "text": [
      "Your turn Player 1, enter a letter/number combination C2\n"
     ]
    },
    {
     "name": "stdout",
     "output_type": "stream",
     "text": [
      "     1  2  3 \n",
      "A  O |   | X |\n",
      " --- --- ---\n",
      "B  X | O |   |\n",
      " --- --- ---\n",
      "C  X | X | O |\n",
      " --- --- ---\n"
     ]
    },
    {
     "name": "stdin",
     "output_type": "stream",
     "text": [
      "Your turn Player 2, enter a letter/number combination B2\n"
     ]
    },
    {
     "name": "stdout",
     "output_type": "stream",
     "text": [
      "This location is already occupied.\n"
     ]
    },
    {
     "name": "stdin",
     "output_type": "stream",
     "text": [
      "Your turn Player 2, enter a letter/number combination A2\n"
     ]
    },
    {
     "name": "stdout",
     "output_type": "stream",
     "text": [
      "     1  2  3 \n",
      "A  O | O | X |\n",
      " --- --- ---\n",
      "B  X | O |   |\n",
      " --- --- ---\n",
      "C  X | X | O |\n",
      " --- --- ---\n"
     ]
    }
   ],
   "source": [
    "# Test your solution here\n",
    "\n",
    "board=[\n",
    "    [2, 0, 1], \n",
    "    [1, 2, 0], \n",
    "    [1, 0, 2]\n",
    "]\n",
    "\n",
    "boards(board)\n",
    "\n",
    "moves(board, 1)\n",
    "boards(board)\n",
    "\n",
    "moves(board, 2)\n",
    "boards(board)"
   ]
  },
  {
   "cell_type": "markdown",
   "metadata": {},
   "source": [
    "*Exercise 9:* Use all of the previous exercises to implement a full tic-tac-toe game, where an appropriate board is drawn, 2 players are repeatedly asked for a location coordinates of where they wish to place a mark, and the game status is checked until a player wins or a draw occurs."
   ]
  },
  {
   "cell_type": "code",
   "execution_count": 137,
   "metadata": {},
   "outputs": [],
   "source": [
    "# Write you solution here\n",
    "def boards(board): \n",
    "    n = len(board) \n",
    "    \n",
    "    print(\"   \", end=\"\")\n",
    "    for col in range(n):\n",
    "        print(f\"  {col+1}  \", end=\"\")\n",
    "    print()\n",
    "\n",
    "    for i in range(n): \n",
    "        row = \"\"\n",
    "        print(f\"{chr(65+i)}\", end=\"  \")\n",
    "\n",
    "        for j in range(n):\n",
    "            if board[i][j] == 0:\n",
    "                row += \"   |\"\n",
    "            elif board[i][j] == 1:\n",
    "                row += \" X |\"\n",
    "            elif board[i][j] == 2:\n",
    "                row += \" O |\"\n",
    "        print(row)\n",
    "        print(\" ---\" * n)\n",
    "\n",
    "def symbol(board, player, coordinates): \n",
    "    x, y = coordinates\n",
    "    if board[x][y] == 0: \n",
    "        board[x][y] = player\n",
    "        return True\n",
    "    else:\n",
    "        return False\n",
    "\n",
    "def modified(board, player, location):\n",
    "    row = ord(location[0].upper()) - ord('A') \n",
    "    col = int(location[1]) - 1 \n",
    "\n",
    "    if symbol(board, player, (row, col)):\n",
    "        return True\n",
    "    else:\n",
    "        return False \n",
    "\n",
    "def moves(board, player):\n",
    "    while True:\n",
    "        location = input(f\"Your turn Player {player}, enter a letter/number combination \").strip().upper()\n",
    "\n",
    "        if len(location) == 2 and location[0] in \"ABC\" and location[1] in \"123\":\n",
    "            if modified(board, player, location):\n",
    "                return \n",
    "            else:\n",
    "                print(\"This location is already occupied.\")\n",
    "        else:\n",
    "            print(\"Invalid input! Please enter a valid location.\")\n",
    "\n",
    "def winner(board):\n",
    "    n=len(board)\n",
    "\n",
    "    for i in range(n):\n",
    "        if all(board[i][j] == board[i][0] and board[i][j] != 0 for j in range(n)):\n",
    "            return board[i][0]\n",
    "        if all(board[j][i] == board[0][i] and board[j][i] != 0 for j in range(n)):\n",
    "            return board[0][i]\n",
    "\n",
    "    if all(board[i][i] == board[0][0] and board[i][i] != 0 for i in range(n)):\n",
    "        return board[0][0]\n",
    "    if all(board[i][n-i-1] == board[0][n-1] and board[i][n-i-1] != 0 for i in range(n)):\n",
    "        return board[0][n-1]\n",
    "\n",
    "    for row in board:\n",
    "        if 0 in row:\n",
    "            return -1 \n",
    "\n",
    "    return 0 \n",
    "\n",
    "def game():\n",
    "    board=[\n",
    "        [0, 0, 0], \n",
    "        [0, 0, 0],\n",
    "        [0, 0, 0]\n",
    "    ]\n",
    "    players=[1, 2]\n",
    "    turn=0\n",
    "\n",
    "    while True:\n",
    "        boards(board)\n",
    "        moves(board, players[turn])\n",
    "\n",
    "        status=winner(board)\n",
    "\n",
    "        if status ==1:\n",
    "            boards(board)\n",
    "            print(\"Player 1 wins.\")\n",
    "            break \n",
    "        elif status ==2:\n",
    "            boards(board)\n",
    "            print(\"Player 2 wins.\")\n",
    "            break \n",
    "        elif status ==0:\n",
    "            boards(board)\n",
    "            print(\"Draw. Nobody won.\") \n",
    "            break \n",
    "        turn= 1-turn"
   ]
  },
  {
   "cell_type": "code",
   "execution_count": 138,
   "metadata": {},
   "outputs": [
    {
     "name": "stdout",
     "output_type": "stream",
     "text": [
      "     1    2    3  \n",
      "A     |   |   |\n",
      " --- --- ---\n",
      "B     |   |   |\n",
      " --- --- ---\n",
      "C     |   |   |\n",
      " --- --- ---\n"
     ]
    },
    {
     "name": "stdin",
     "output_type": "stream",
     "text": [
      "Your turn Player 1, enter a letter/number combination  B2\n"
     ]
    },
    {
     "name": "stdout",
     "output_type": "stream",
     "text": [
      "     1    2    3  \n",
      "A     |   |   |\n",
      " --- --- ---\n",
      "B     | X |   |\n",
      " --- --- ---\n",
      "C     |   |   |\n",
      " --- --- ---\n"
     ]
    },
    {
     "name": "stdin",
     "output_type": "stream",
     "text": [
      "Your turn Player 2, enter a letter/number combination  A3\n"
     ]
    },
    {
     "name": "stdout",
     "output_type": "stream",
     "text": [
      "     1    2    3  \n",
      "A     |   | O |\n",
      " --- --- ---\n",
      "B     | X |   |\n",
      " --- --- ---\n",
      "C     |   |   |\n",
      " --- --- ---\n"
     ]
    },
    {
     "name": "stdin",
     "output_type": "stream",
     "text": [
      "Your turn Player 1, enter a letter/number combination  A1\n"
     ]
    },
    {
     "name": "stdout",
     "output_type": "stream",
     "text": [
      "     1    2    3  \n",
      "A   X |   | O |\n",
      " --- --- ---\n",
      "B     | X |   |\n",
      " --- --- ---\n",
      "C     |   |   |\n",
      " --- --- ---\n"
     ]
    },
    {
     "name": "stdin",
     "output_type": "stream",
     "text": [
      "Your turn Player 2, enter a letter/number combination  C3\n"
     ]
    },
    {
     "name": "stdout",
     "output_type": "stream",
     "text": [
      "     1    2    3  \n",
      "A   X |   | O |\n",
      " --- --- ---\n",
      "B     | X |   |\n",
      " --- --- ---\n",
      "C     |   | O |\n",
      " --- --- ---\n"
     ]
    },
    {
     "name": "stdin",
     "output_type": "stream",
     "text": [
      "Your turn Player 1, enter a letter/number combination  B3\n"
     ]
    },
    {
     "name": "stdout",
     "output_type": "stream",
     "text": [
      "     1    2    3  \n",
      "A   X |   | O |\n",
      " --- --- ---\n",
      "B     | X | X |\n",
      " --- --- ---\n",
      "C     |   | O |\n",
      " --- --- ---\n"
     ]
    },
    {
     "name": "stdin",
     "output_type": "stream",
     "text": [
      "Your turn Player 2, enter a letter/number combination  B1\n"
     ]
    },
    {
     "name": "stdout",
     "output_type": "stream",
     "text": [
      "     1    2    3  \n",
      "A   X |   | O |\n",
      " --- --- ---\n",
      "B   O | X | X |\n",
      " --- --- ---\n",
      "C     |   | O |\n",
      " --- --- ---\n"
     ]
    },
    {
     "name": "stdin",
     "output_type": "stream",
     "text": [
      "Your turn Player 1, enter a letter/number combination  A2\n"
     ]
    },
    {
     "name": "stdout",
     "output_type": "stream",
     "text": [
      "     1    2    3  \n",
      "A   X | X | O |\n",
      " --- --- ---\n",
      "B   O | X | X |\n",
      " --- --- ---\n",
      "C     |   | O |\n",
      " --- --- ---\n"
     ]
    },
    {
     "name": "stdin",
     "output_type": "stream",
     "text": [
      "Your turn Player 2, enter a letter/number combination  C2\n"
     ]
    },
    {
     "name": "stdout",
     "output_type": "stream",
     "text": [
      "     1    2    3  \n",
      "A   X | X | O |\n",
      " --- --- ---\n",
      "B   O | X | X |\n",
      " --- --- ---\n",
      "C     | O | O |\n",
      " --- --- ---\n"
     ]
    },
    {
     "name": "stdin",
     "output_type": "stream",
     "text": [
      "Your turn Player 1, enter a letter/number combination  C1\n"
     ]
    },
    {
     "name": "stdout",
     "output_type": "stream",
     "text": [
      "     1    2    3  \n",
      "A   X | X | O |\n",
      " --- --- ---\n",
      "B   O | X | X |\n",
      " --- --- ---\n",
      "C   X | O | O |\n",
      " --- --- ---\n",
      "Draw. Nobody won.\n"
     ]
    }
   ],
   "source": [
    "# Test your solution here\n",
    "game()"
   ]
  },
  {
   "cell_type": "markdown",
   "metadata": {},
   "source": [
    "*Exercise 10:* Test that your game works for 5x5 Tic Tac Toe.  "
   ]
  },
  {
   "cell_type": "code",
   "execution_count": 141,
   "metadata": {},
   "outputs": [
    {
     "name": "stdout",
     "output_type": "stream",
     "text": [
      "       1    2    3    4    5  \n",
      "A     |   |   |   |   |\n",
      " --- --- --- --- ---\n",
      "B     |   |   |   |   |\n",
      " --- --- --- --- ---\n",
      "C     |   |   |   |   |\n",
      " --- --- --- --- ---\n",
      "D     |   |   |   |   |\n",
      " --- --- --- --- ---\n",
      "E     |   |   |   |   |\n",
      " --- --- --- --- ---\n"
     ]
    },
    {
     "name": "stdin",
     "output_type": "stream",
     "text": [
      "Your turn Player 1, enter a letter/number combination. C3\n"
     ]
    },
    {
     "name": "stdout",
     "output_type": "stream",
     "text": [
      "       1    2    3    4    5  \n",
      "A     |   |   |   |   |\n",
      " --- --- --- --- ---\n",
      "B     |   |   |   |   |\n",
      " --- --- --- --- ---\n",
      "C     |   | X |   |   |\n",
      " --- --- --- --- ---\n",
      "D     |   |   |   |   |\n",
      " --- --- --- --- ---\n",
      "E     |   |   |   |   |\n",
      " --- --- --- --- ---\n"
     ]
    },
    {
     "name": "stdin",
     "output_type": "stream",
     "text": [
      "Your turn Player 2, enter a letter/number combination. B1\n"
     ]
    },
    {
     "name": "stdout",
     "output_type": "stream",
     "text": [
      "       1    2    3    4    5  \n",
      "A     |   |   |   |   |\n",
      " --- --- --- --- ---\n",
      "B   O |   |   |   |   |\n",
      " --- --- --- --- ---\n",
      "C     |   | X |   |   |\n",
      " --- --- --- --- ---\n",
      "D     |   |   |   |   |\n",
      " --- --- --- --- ---\n",
      "E     |   |   |   |   |\n",
      " --- --- --- --- ---\n"
     ]
    },
    {
     "name": "stdin",
     "output_type": "stream",
     "text": [
      "Your turn Player 1, enter a letter/number combination. C2\n"
     ]
    },
    {
     "name": "stdout",
     "output_type": "stream",
     "text": [
      "       1    2    3    4    5  \n",
      "A     |   |   |   |   |\n",
      " --- --- --- --- ---\n",
      "B   O |   |   |   |   |\n",
      " --- --- --- --- ---\n",
      "C     | X | X |   |   |\n",
      " --- --- --- --- ---\n",
      "D     |   |   |   |   |\n",
      " --- --- --- --- ---\n",
      "E     |   |   |   |   |\n",
      " --- --- --- --- ---\n"
     ]
    },
    {
     "name": "stdin",
     "output_type": "stream",
     "text": [
      "Your turn Player 2, enter a letter/number combination. B1\n"
     ]
    },
    {
     "name": "stdout",
     "output_type": "stream",
     "text": [
      "This location is already occupied.\n"
     ]
    },
    {
     "name": "stdin",
     "output_type": "stream",
     "text": [
      "Your turn Player 2, enter a letter/number combination. A1\n"
     ]
    },
    {
     "name": "stdout",
     "output_type": "stream",
     "text": [
      "       1    2    3    4    5  \n",
      "A   O |   |   |   |   |\n",
      " --- --- --- --- ---\n",
      "B   O |   |   |   |   |\n",
      " --- --- --- --- ---\n",
      "C     | X | X |   |   |\n",
      " --- --- --- --- ---\n",
      "D     |   |   |   |   |\n",
      " --- --- --- --- ---\n",
      "E     |   |   |   |   |\n",
      " --- --- --- --- ---\n"
     ]
    },
    {
     "name": "stdin",
     "output_type": "stream",
     "text": [
      "Your turn Player 1, enter a letter/number combination. C1\n"
     ]
    },
    {
     "name": "stdout",
     "output_type": "stream",
     "text": [
      "       1    2    3    4    5  \n",
      "A   O |   |   |   |   |\n",
      " --- --- --- --- ---\n",
      "B   O |   |   |   |   |\n",
      " --- --- --- --- ---\n",
      "C   X | X | X |   |   |\n",
      " --- --- --- --- ---\n",
      "D     |   |   |   |   |\n",
      " --- --- --- --- ---\n",
      "E     |   |   |   |   |\n",
      " --- --- --- --- ---\n"
     ]
    },
    {
     "name": "stdin",
     "output_type": "stream",
     "text": [
      "Your turn Player 2, enter a letter/number combination. D1\n"
     ]
    },
    {
     "name": "stdout",
     "output_type": "stream",
     "text": [
      "       1    2    3    4    5  \n",
      "A   O |   |   |   |   |\n",
      " --- --- --- --- ---\n",
      "B   O |   |   |   |   |\n",
      " --- --- --- --- ---\n",
      "C   X | X | X |   |   |\n",
      " --- --- --- --- ---\n",
      "D   O |   |   |   |   |\n",
      " --- --- --- --- ---\n",
      "E     |   |   |   |   |\n",
      " --- --- --- --- ---\n"
     ]
    },
    {
     "name": "stdin",
     "output_type": "stream",
     "text": [
      "Your turn Player 1, enter a letter/number combination. C4\n"
     ]
    },
    {
     "name": "stdout",
     "output_type": "stream",
     "text": [
      "       1    2    3    4    5  \n",
      "A   O |   |   |   |   |\n",
      " --- --- --- --- ---\n",
      "B   O |   |   |   |   |\n",
      " --- --- --- --- ---\n",
      "C   X | X | X | X |   |\n",
      " --- --- --- --- ---\n",
      "D   O |   |   |   |   |\n",
      " --- --- --- --- ---\n",
      "E     |   |   |   |   |\n",
      " --- --- --- --- ---\n"
     ]
    },
    {
     "name": "stdin",
     "output_type": "stream",
     "text": [
      "Your turn Player 2, enter a letter/number combination. E1\n"
     ]
    },
    {
     "name": "stdout",
     "output_type": "stream",
     "text": [
      "       1    2    3    4    5  \n",
      "A   O |   |   |   |   |\n",
      " --- --- --- --- ---\n",
      "B   O |   |   |   |   |\n",
      " --- --- --- --- ---\n",
      "C   X | X | X | X |   |\n",
      " --- --- --- --- ---\n",
      "D   O |   |   |   |   |\n",
      " --- --- --- --- ---\n",
      "E   O |   |   |   |   |\n",
      " --- --- --- --- ---\n"
     ]
    },
    {
     "name": "stdin",
     "output_type": "stream",
     "text": [
      "Your turn Player 1, enter a letter/number combination. C5\n"
     ]
    },
    {
     "name": "stdout",
     "output_type": "stream",
     "text": [
      "       1    2    3    4    5  \n",
      "A   O |   |   |   |   |\n",
      " --- --- --- --- ---\n",
      "B   O |   |   |   |   |\n",
      " --- --- --- --- ---\n",
      "C   X | X | X | X | X |\n",
      " --- --- --- --- ---\n",
      "D   O |   |   |   |   |\n",
      " --- --- --- --- ---\n",
      "E   O |   |   |   |   |\n",
      " --- --- --- --- ---\n",
      "Player 1 has won. Here is your trophy.\n"
     ]
    }
   ],
   "source": [
    "# Test your solution here\n",
    "\n",
    "def boards(board): \n",
    "    n= len(board)\n",
    "    \n",
    "    print(\"   \", end=\"\")\n",
    "    for col in range(n):\n",
    "        print(f\"  {col+1}  \", end=\"\")\n",
    "    print()\n",
    "\n",
    "    for i in range(n): \n",
    "        row = \"\"\n",
    "        print(f\"{chr(65+i)}\", end=\"  \") \n",
    "\n",
    "        for j in range(n):\n",
    "            if board[i][j]==0:\n",
    "                row += \"   |\"\n",
    "            elif board[i][j]==1:\n",
    "                row += \" X |\"\n",
    "            elif board[i][j]==2:\n",
    "                row += \" O |\"\n",
    "        print(row)\n",
    "        print(\" ---\" * n)\n",
    "\n",
    "def symbol(board, player, coordinates): \n",
    "    x, y = coordinates\n",
    "    if board[x][y]==0: \n",
    "        board[x][y]=player\n",
    "        return True\n",
    "    else:\n",
    "        return False\n",
    "\n",
    "def modified(board, player, location):\n",
    "    row=ord(location[0].upper())- ord('A') \n",
    "    col=int(location[1])-1 \n",
    "\n",
    "    if symbol(board, player, (row, col)):\n",
    "        return True\n",
    "    else:\n",
    "        return False \n",
    "\n",
    "def moves(board, player):\n",
    "    while True:\n",
    "        location=input(f\"Your turn Player {player}, enter a letter/number combination.\").strip().upper()\n",
    "\n",
    "        if len(location)==2 and location[0] in \"ABCDE\" and location[1] in \"12345\":\n",
    "            if modified(board, player, location):\n",
    "                return \n",
    "            else:\n",
    "                print(\"This location is already occupied.\")\n",
    "        else:\n",
    "            print(\"Please put a valid location.\")\n",
    "\n",
    "def winner(board):\n",
    "    n=len(board)\n",
    "\n",
    "    for i in range(n):\n",
    "        if all(board[i][j]==board[i][0] and board[i][j] != 0 for j in range(n)):\n",
    "            return board[i][0]\n",
    "        if all(board[j][i]==board[0][i] and board[j][i] != 0 for j in range(n)):\n",
    "            return board[0][i]\n",
    "\n",
    "    if all(board[i][i]==board[0][0] and board[i][i] != 0 for i in range(n)):\n",
    "        return board[0][0]\n",
    "    if all(board[i][n-i-1]==board[0][n-1] and board[i][n-i-1] != 0 for i in range(n)):\n",
    "        return board[0][n-1]\n",
    "\n",
    "    for row in board:\n",
    "        if 0 in row:\n",
    "            return -1 \n",
    "\n",
    "    return 0\n",
    "\n",
    "def game():\n",
    "    board = [\n",
    "        [0, 0, 0, 0, 0], \n",
    "        [0, 0, 0, 0, 0],\n",
    "        [0, 0, 0, 0, 0],\n",
    "        [0, 0, 0, 0, 0],\n",
    "        [0, 0, 0, 0, 0]\n",
    "    ]\n",
    "    players=[1, 2]\n",
    "    turn= 0\n",
    "\n",
    "    while True:\n",
    "        boards(board)\n",
    "        moves(board, players[turn])\n",
    "\n",
    "        status = winner(board)\n",
    "\n",
    "        if status==1:\n",
    "            boards(board)\n",
    "            print(\"Player 1 has won. Here is your trophy.\")\n",
    "            break\n",
    "        elif status == 2:\n",
    "            boards(board)\n",
    "            print(\"Player 2 has won. Here is your trophy.\")\n",
    "            break\n",
    "        elif status==0:\n",
    "            boards(board)\n",
    "            print(\"Draw. Nobody won.\")\n",
    "            break\n",
    "\n",
    "        turn= 1-turn  \n",
    "\n",
    "game()"
   ]
  },
  {
   "cell_type": "markdown",
   "metadata": {},
   "source": [
    "*Exercise 11:* (Advanced / Challenge) Develop a version of the game where one player is the computer. Note that you don't need to do an extensive seach for the best move. You can have the computer simply protect against loosing and otherwise try to win with straight or diagonal patterns."
   ]
  },
  {
   "cell_type": "code",
   "execution_count": null,
   "metadata": {
    "collapsed": true,
    "jupyter": {
     "outputs_hidden": true
    }
   },
   "outputs": [],
   "source": [
    "# Write you solution here"
   ]
  },
  {
   "cell_type": "code",
   "execution_count": null,
   "metadata": {
    "collapsed": true,
    "jupyter": {
     "outputs_hidden": true
    }
   },
   "outputs": [],
   "source": [
    "# Test your solution here"
   ]
  }
 ],
 "metadata": {
  "kernelspec": {
   "display_name": "Python 3 (ipykernel)",
   "language": "python",
   "name": "python3"
  },
  "language_info": {
   "codemirror_mode": {
    "name": "ipython",
    "version": 3
   },
   "file_extension": ".py",
   "mimetype": "text/x-python",
   "name": "python",
   "nbconvert_exporter": "python",
   "pygments_lexer": "ipython3",
   "version": "3.12.3"
  }
 },
 "nbformat": 4,
 "nbformat_minor": 4
}
